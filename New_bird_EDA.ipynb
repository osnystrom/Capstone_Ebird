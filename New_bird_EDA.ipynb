{
 "cells": [
  {
   "cell_type": "code",
   "execution_count": 6,
   "id": "3249b5f0",
   "metadata": {},
   "outputs": [],
   "source": [
    "import pandas as pd\n",
    "import seaborn as sns\n",
    "import numpy as np\n",
    "import matplotlib.pyplot as plt\n",
    "from matplotlib import figure\n",
    "from shapely.geometry import Point, Polygon\n",
    "import shapefile as shp\n",
    "import geopandas as gpd\n",
    "from pyproj import CRS\n",
    "\n",
    "%matplotlib inline"
   ]
  },
  {
   "cell_type": "code",
   "execution_count": 3,
   "id": "299a84b5",
   "metadata": {},
   "outputs": [
    {
     "name": "stdout",
     "output_type": "stream",
     "text": [
      "['Bald Eagle' \"Cooper's Hawk\" 'Red-tailed Hawk' 'American Kestrel'\n",
      " 'White-tailed Kite' 'Sharp-shinned Hawk' 'Northern Harrier'\n",
      " 'Peregrine Falcon' 'Great Horned Owl' 'Golden Eagle'\n",
      " 'Red-shouldered Hawk' 'Western Screech-Owl' 'Barn Owl' 'Short-eared Owl'\n",
      " 'Burrowing Owl' 'Northern Goshawk' 'Prairie Falcon' 'Ferruginous Hawk'\n",
      " 'Northern Saw-whet Owl' 'Long-eared Owl' \"Swainson's Hawk\"\n",
      " 'Broad-winged Hawk' 'Northern Pygmy-Owl' 'Merlin' 'Rough-legged Hawk'\n",
      " 'Zone-tailed Hawk' 'Snowy Owl' 'Flammulated Owl' 'Barred Owl'\n",
      " \"Harris's Hawk\" 'Mississippi Kite' 'Common Black Hawk'\n",
      " 'Swallow-tailed Kite' 'Gray Hawk' 'Elf Owl' 'Aplomado Falcon']\n",
      "36\n",
      "             LAST EDITED DATE        COMMON NAME           SCIENTIFIC NAME  \\\n",
      "0  2021-08-05 02:45:57.629774         Bald Eagle  Haliaeetus leucocephalus   \n",
      "1  2021-04-01 02:35:26.368505      Cooper's Hawk        Accipiter cooperii   \n",
      "2  2021-04-01 02:35:26.368505    Red-tailed Hawk         Buteo jamaicensis   \n",
      "3         2017-08-16 00:55:22   American Kestrel          Falco sparverius   \n",
      "4         2014-10-19 02:09:50  White-tailed Kite           Elanus leucurus   \n",
      "\n",
      "      COUNTY COUNTY CODE   LATITUDE   LONGITUDE OBSERVATION DATE  \\\n",
      "0  Del Norte   US-CA-015  41.754666 -124.202714       1999-01-18   \n",
      "1  Riverside   US-CA-065  33.531253 -117.075205       1996-10-13   \n",
      "2  Riverside   US-CA-065  33.462797 -115.980082       1997-08-22   \n",
      "3       Kern   US-CA-029  35.615712 -118.251686       1995-09-11   \n",
      "4   Monterey   US-CA-053  36.826080 -121.632273       1994-10-15   \n",
      "\n",
      "                     Size           Main Colors  Brown  White  Gray  Orange  \\\n",
      "0   goose-sized or larger          brown, white      1      1     0       0   \n",
      "1              crow-sized          gray, orange      0      0     1       1   \n",
      "2  between crow and goose  brown, white, orange      1      1     0       1   \n",
      "3             robin-sized   gray, orange, black      0      0     1       1   \n",
      "4  between crow and goose    white, gray, black      0      1     1       0   \n",
      "\n",
      "   Black  \n",
      "0      0  \n",
      "1      0  \n",
      "2      0  \n",
      "3      1  \n",
      "4      1  \n"
     ]
    }
   ],
   "source": [
    "open(\"/Users/olivianystrom/Desktop/Springboard/CA_Birds_of_Prey/Birds_of_Prey.csv\")\n",
    "df = pd.read_csv(\"/Users/olivianystrom/Desktop/Springboard/CA_Birds_of_Prey/Birds_of_Prey.csv\")\n",
    "print(df[\"COMMON NAME\"].unique())\n",
    "print(len(df[\"COMMON NAME\"].unique()))\n",
    "df.drop('Unnamed: 0', axis=1, inplace=True)\n",
    "print(df.head())\n",
    "#looking at the list of birds we narrowed the list down to and their descriptive info"
   ]
  },
  {
   "cell_type": "code",
   "execution_count": 10,
   "id": "ce7fc30a",
   "metadata": {},
   "outputs": [
    {
     "name": "stdout",
     "output_type": "stream",
     "text": [
      "  OBSERVATION DATE        COMMON NAME           SCIENTIFIC NAME   LATITUDE  \\\n",
      "0  1999-01-18 0:00         Bald Eagle  Haliaeetus leucocephalus  41.754666   \n",
      "1  1996-10-13 0:00      Cooper's Hawk        Accipiter cooperii  33.531253   \n",
      "2  1997-08-22 0:00    Red-tailed Hawk         Buteo jamaicensis  33.462797   \n",
      "3  1995-09-11 0:00   American Kestrel          Falco sparverius  35.615712   \n",
      "4  1994-10-15 0:00  White-tailed Kite           Elanus leucurus  36.826080   \n",
      "\n",
      "    LONGITUDE     COUNTY  \n",
      "0 -124.202714  Del Norte  \n",
      "1 -117.075205  Riverside  \n",
      "2 -115.980082  Riverside  \n",
      "3 -118.251686       Kern  \n",
      "4 -121.632273   Monterey  \n"
     ]
    },
    {
     "data": {
      "image/png": "[encoded data removed]",
      "text/plain": [
       "<Figure size 432x288 with 1 Axes>"
      ]
     },
     "metadata": {
      "needs_background": "light"
     },
     "output_type": "display_data"
    }
   ],
   "source": [
    "# Show total sightings over time\n",
    "# Truncate date to year\n",
    "# https://www.geeksforgeeks.org/creating-a-time-series-plot-with-seaborn-and-pandas/\n",
    "from datetime import datetime\n",
    "\n",
    "df['OBSERVATION DATE'] = pd.to_datetime(df['OBSERVATION DATE']).astype(str) + ' 0:00'\n",
    "\n",
    "df_locs = df[['OBSERVATION DATE', 'COMMON NAME', 'SCIENTIFIC NAME', 'LATITUDE', 'LONGITUDE', 'COUNTY']]\n",
    "# df.groupby(by=[df.index.month, df.index.year])\n",
    "print(df_locs.head())\n",
    "\n",
    "#Plot to show sightings over time. Sightings increase dramatically over time and do not appear to have hit a \n",
    "#plateau yet, which shows the popularity of using ebird is rising, but does not tell us much about the actual birds.\n",
    "sns.countplot(data = df, x=pd.DatetimeIndex(df['OBSERVATION DATE']).year)\n",
    "plt.show()\n"
   ]
  },
  {
   "cell_type": "code",
   "execution_count": 7,
   "id": "de908fd0",
   "metadata": {},
   "outputs": [
    {
     "name": "stdout",
     "output_type": "stream",
     "text": [
      "Index(['OBSERVATION DATE', 'COMMON NAME', 'SCIENTIFIC NAME', 'LATITUDE',\n",
      "       'LONGITUDE', 'COUNTY', 'STATEFP', 'COUNTYFP', 'COUNTYNS', 'GEOID',\n",
      "       'NAME', 'NAMELSAD', 'LSAD', 'CLASSFP', 'MTFCC', 'CSAFP', 'CBSAFP',\n",
      "       'METDIVFP', 'FUNCSTAT', 'ALAND', 'AWATER', 'INTPTLAT', 'INTPTLON',\n",
      "       'geometry'],\n",
      "      dtype='object')\n"
     ]
    },
    {
     "data": {
      "text/html": [
       "<div>\n",
       "<style scoped>\n",
       "    .dataframe tbody tr th:only-of-type {\n",
       "        vertical-align: middle;\n",
       "    }\n",
       "\n",
       "    .dataframe tbody tr th {\n",
       "        vertical-align: top;\n",
       "    }\n",
       "\n",
       "    .dataframe thead th {\n",
       "        text-align: right;\n",
       "    }\n",
       "</style>\n",
       "<table border=\"1\" class=\"dataframe\">\n",
       "  <thead>\n",
       "    <tr style=\"text-align: right;\">\n",
       "      <th></th>\n",
       "      <th>OBSERVATION DATE</th>\n",
       "      <th>COMMON NAME</th>\n",
       "      <th>SCIENTIFIC NAME</th>\n",
       "      <th>LATITUDE</th>\n",
       "      <th>LONGITUDE</th>\n",
       "      <th>COUNTY</th>\n",
       "    </tr>\n",
       "  </thead>\n",
       "  <tbody>\n",
       "    <tr>\n",
       "      <th>0</th>\n",
       "      <td>1999-01-18 0:00</td>\n",
       "      <td>Bald Eagle</td>\n",
       "      <td>Haliaeetus leucocephalus</td>\n",
       "      <td>41.754666</td>\n",
       "      <td>-124.202714</td>\n",
       "      <td>Del Norte</td>\n",
       "    </tr>\n",
       "    <tr>\n",
       "      <th>1</th>\n",
       "      <td>1996-10-13 0:00</td>\n",
       "      <td>Cooper's Hawk</td>\n",
       "      <td>Accipiter cooperii</td>\n",
       "      <td>33.531253</td>\n",
       "      <td>-117.075205</td>\n",
       "      <td>Riverside</td>\n",
       "    </tr>\n",
       "    <tr>\n",
       "      <th>2</th>\n",
       "      <td>1997-08-22 0:00</td>\n",
       "      <td>Red-tailed Hawk</td>\n",
       "      <td>Buteo jamaicensis</td>\n",
       "      <td>33.462797</td>\n",
       "      <td>-115.980082</td>\n",
       "      <td>Riverside</td>\n",
       "    </tr>\n",
       "    <tr>\n",
       "      <th>3</th>\n",
       "      <td>1995-09-11 0:00</td>\n",
       "      <td>American Kestrel</td>\n",
       "      <td>Falco sparverius</td>\n",
       "      <td>35.615712</td>\n",
       "      <td>-118.251686</td>\n",
       "      <td>Kern</td>\n",
       "    </tr>\n",
       "    <tr>\n",
       "      <th>4</th>\n",
       "      <td>1994-10-15 0:00</td>\n",
       "      <td>White-tailed Kite</td>\n",
       "      <td>Elanus leucurus</td>\n",
       "      <td>36.826080</td>\n",
       "      <td>-121.632273</td>\n",
       "      <td>Monterey</td>\n",
       "    </tr>\n",
       "    <tr>\n",
       "      <th>...</th>\n",
       "      <td>...</td>\n",
       "      <td>...</td>\n",
       "      <td>...</td>\n",
       "      <td>...</td>\n",
       "      <td>...</td>\n",
       "      <td>...</td>\n",
       "    </tr>\n",
       "    <tr>\n",
       "      <th>4240971</th>\n",
       "      <td>1994-02-02 0:00</td>\n",
       "      <td>Peregrine Falcon</td>\n",
       "      <td>Falco peregrinus</td>\n",
       "      <td>37.641932</td>\n",
       "      <td>-122.151701</td>\n",
       "      <td>Alameda</td>\n",
       "    </tr>\n",
       "    <tr>\n",
       "      <th>4240972</th>\n",
       "      <td>1984-03-03 0:00</td>\n",
       "      <td>Red-shouldered Hawk</td>\n",
       "      <td>Buteo lineatus</td>\n",
       "      <td>34.436575</td>\n",
       "      <td>-118.609858</td>\n",
       "      <td>Los Angeles</td>\n",
       "    </tr>\n",
       "    <tr>\n",
       "      <th>4240973</th>\n",
       "      <td>1999-12-10 0:00</td>\n",
       "      <td>Golden Eagle</td>\n",
       "      <td>Aquila chrysaetos</td>\n",
       "      <td>39.002042</td>\n",
       "      <td>-123.084710</td>\n",
       "      <td>Mendocino</td>\n",
       "    </tr>\n",
       "    <tr>\n",
       "      <th>4240974</th>\n",
       "      <td>1997-12-30 0:00</td>\n",
       "      <td>Western Screech-Owl</td>\n",
       "      <td>Megascops kennicottii</td>\n",
       "      <td>37.465594</td>\n",
       "      <td>-121.520119</td>\n",
       "      <td>Santa Clara</td>\n",
       "    </tr>\n",
       "    <tr>\n",
       "      <th>4240975</th>\n",
       "      <td>1985-06-01 0:00</td>\n",
       "      <td>Red-tailed Hawk</td>\n",
       "      <td>Buteo jamaicensis</td>\n",
       "      <td>38.654952</td>\n",
       "      <td>-123.391571</td>\n",
       "      <td>Sonoma</td>\n",
       "    </tr>\n",
       "  </tbody>\n",
       "</table>\n",
       "<p>4240976 rows × 6 columns</p>\n",
       "</div>"
      ],
      "text/plain": [
       "        OBSERVATION DATE          COMMON NAME           SCIENTIFIC NAME  \\\n",
       "0        1999-01-18 0:00           Bald Eagle  Haliaeetus leucocephalus   \n",
       "1        1996-10-13 0:00        Cooper's Hawk        Accipiter cooperii   \n",
       "2        1997-08-22 0:00      Red-tailed Hawk         Buteo jamaicensis   \n",
       "3        1995-09-11 0:00     American Kestrel          Falco sparverius   \n",
       "4        1994-10-15 0:00    White-tailed Kite           Elanus leucurus   \n",
       "...                  ...                  ...                       ...   \n",
       "4240971  1994-02-02 0:00     Peregrine Falcon          Falco peregrinus   \n",
       "4240972  1984-03-03 0:00  Red-shouldered Hawk            Buteo lineatus   \n",
       "4240973  1999-12-10 0:00         Golden Eagle         Aquila chrysaetos   \n",
       "4240974  1997-12-30 0:00  Western Screech-Owl     Megascops kennicottii   \n",
       "4240975  1985-06-01 0:00      Red-tailed Hawk         Buteo jamaicensis   \n",
       "\n",
       "          LATITUDE   LONGITUDE       COUNTY  \n",
       "0        41.754666 -124.202714    Del Norte  \n",
       "1        33.531253 -117.075205    Riverside  \n",
       "2        33.462797 -115.980082    Riverside  \n",
       "3        35.615712 -118.251686         Kern  \n",
       "4        36.826080 -121.632273     Monterey  \n",
       "...            ...         ...          ...  \n",
       "4240971  37.641932 -122.151701      Alameda  \n",
       "4240972  34.436575 -118.609858  Los Angeles  \n",
       "4240973  39.002042 -123.084710    Mendocino  \n",
       "4240974  37.465594 -121.520119  Santa Clara  \n",
       "4240975  38.654952 -123.391571       Sonoma  \n",
       "\n",
       "[4240976 rows x 6 columns]"
      ]
     },
     "execution_count": 7,
     "metadata": {},
     "output_type": "execute_result"
    }
   ],
   "source": [
    "#Starting the Lat/Long plotting\n",
    "\n",
    "#loading a shape file of California to plot bird location data on\n",
    "CA_counties_data = gpd.read_file(\"/Users/olivianystrom/Desktop/Springboard/CA_Birds_of_Prey/CA_Counties/CA_Counties_TIGER2016.shp\")\n",
    "CA_counties = pd.DataFrame()\n",
    "CA_counties = CA_counties.append(CA_counties_data)\n",
    "CA_counties\n",
    "\n",
    "#merging location dataframe with shapefile dataframe info\n",
    "kepler_merged_df = pd.merge(df_locs,CA_counties, how = 'left', left_on='COUNTY', right_on = 'NAME')\n",
    "print(kepler_merged_df.columns)\n",
    "#cut down columns so kepler can read the dataframe\n",
    "kepler_merged_small = kepler_merged_df[['OBSERVATION DATE', 'COMMON NAME', 'SCIENTIFIC NAME', 'LATITUDE', 'LONGITUDE', 'COUNTY']]\n",
    "kepler_merged_small"
   ]
  },
  {
   "cell_type": "code",
   "execution_count": 9,
   "id": "b9fbfa40",
   "metadata": {},
   "outputs": [
    {
     "name": "stdout",
     "output_type": "stream",
     "text": [
      "User Guide: https://docs.kepler.gl/docs/keplergl-jupyter\n"
     ]
    },
    {
     "data": {
      "application/vnd.jupyter.widget-view+json": {
       "model_id": "22f98129c7ce4d26b58f0badc08eb973",
       "version_major": 2,
       "version_minor": 0
      },
      "text/plain": [
       "KeplerGl(data={'Bird Data':         OBSERVATION DATE          COMMON NAME           SCIENTIFIC NAME  \\\n",
       "0      …"
      ]
     },
     "metadata": {},
     "output_type": "display_data"
    }
   ],
   "source": [
    "from keplergl import KeplerGl\n",
    "kepler_map = KeplerGl(height = 550, data={'Bird Data': kepler_merged_small})\n",
    "kepler_map\n",
    "#Using the Common Name filter to filter by bird species, it's easy to see which are the vagrant birds, vs the species\n",
    "#actually live in california (whether native or naturalized)\n",
    "#Range distributions also vary widely, which should be helpful in the ML stage. Northern Goshawk is a good example for\n",
    "#a bird with a fairly defined region. As are barred owls. American Kestrels (eg) can be seen basically everywhere in CA\n",
    "#so distinguishing those from any other raptor will depend more on size and color than location. "
   ]
  },
  {
   "cell_type": "code",
   "execution_count": null,
   "id": "b48f94f4",
   "metadata": {},
   "outputs": [],
   "source": []
  }
 ],
 "metadata": {
  "kernelspec": {
   "display_name": "Python 3",
   "language": "python",
   "name": "python3"
  },
  "language_info": {
   "codemirror_mode": {
    "name": "ipython",
    "version": 3
   },
   "file_extension": ".py",
   "mimetype": "text/x-python",
   "name": "python",
   "nbconvert_exporter": "python",
   "pygments_lexer": "ipython3",
   "version": "3.8.8"
  }
 },
 "nbformat": 4,
 "nbformat_minor": 5
}
