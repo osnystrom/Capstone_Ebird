{
 "cells": [
  {
   "cell_type": "code",
   "execution_count": 42,
   "id": "f1565c32",
   "metadata": {
    "scrolled": true
   },
   "outputs": [],
   "source": [
    "import pandas as pd\n",
    "import csv\n",
    "import numpy as np\n",
    "import matplotlib.pyplot as plt\n",
    "import seaborn as sns\n",
    "\n",
    "#The csv file that I got after trimming down to the birds I was interested is still 550 MB, but much more manageable than 31 GB\n",
    "#This data is very clean, the main challenge was working with a file this large and keeping only the data I need\n"
   ]
  },
  {
   "cell_type": "code",
   "execution_count": 33,
   "id": "65a35f91",
   "metadata": {},
   "outputs": [],
   "source": [
    "bird_types = ['Hawk', 'Eagle', 'Kestrel', 'kestrel', 'eagle', 'Falcon', 'falcon', 'hawk', 'Owl', 'owl sp.', 'Harrier', 'harrier', 'Kite', 'kite', 'Osprey', 'Merlin']\n",
    "with open(\"/Users/olivianystrom/Desktop/Springboard/CA_Birds_of_Prey/ebd_US-CA_relDec-2021.txt\") as file:\n",
    "    df = pd.DataFrame()\n",
    "    chunksize = 10 ** 4\n",
    "    with pd.read_csv(file,  sep = '\\t', header = 0, chunksize=chunksize) as reader:\n",
    "        for chunk in reader:\n",
    "            chunk.drop(chunk[~chunk['COMMON NAME'].str.contains('|'.join(bird_types))].index, inplace = True)\n",
    "            relevant_chunk = (chunk[[\"LAST EDITED DATE\", \"COMMON NAME\", \"SCIENTIFIC NAME\", \"COUNTY\", \"COUNTY CODE\", \"LATITUDE\", \"LONGITUDE\", \"OBSERVATION DATE\"]])\n",
    "            df = df.append(relevant_chunk)"
   ]
  },
  {
   "cell_type": "code",
   "execution_count": 34,
   "id": "58ccf441",
   "metadata": {},
   "outputs": [
    {
     "name": "stdout",
     "output_type": "stream",
     "text": [
      "                    LAST EDITED DATE          COMMON NAME  \\\n",
      "14        2021-08-05 02:45:57.629774           Bald Eagle   \n",
      "15        2021-04-01 02:35:26.368505        Cooper's Hawk   \n",
      "47               2017-08-16 00:15:16               Osprey   \n",
      "59        2021-04-01 02:35:26.368505      Red-tailed Hawk   \n",
      "66               2017-08-16 00:55:22     American Kestrel   \n",
      "...                              ...                  ...   \n",
      "80814068  2021-04-02 01:44:38.371831  Red-shouldered Hawk   \n",
      "80814086  2021-03-18 23:02:45.453025         Golden Eagle   \n",
      "80814103         2018-08-02 22:13:33               Osprey   \n",
      "80814172         2011-12-09 03:47:17  Western Screech-Owl   \n",
      "80814182         2020-09-25 18:01:12      Red-tailed Hawk   \n",
      "\n",
      "                   SCIENTIFIC NAME       COUNTY COUNTY CODE   LATITUDE  \\\n",
      "14        Haliaeetus leucocephalus    Del Norte   US-CA-015  41.754666   \n",
      "15              Accipiter cooperii    Riverside   US-CA-065  33.531253   \n",
      "47               Pandion haliaetus       Placer   US-CA-061  38.936017   \n",
      "59               Buteo jamaicensis    Riverside   US-CA-065  33.462797   \n",
      "66                Falco sparverius         Kern   US-CA-029  35.615712   \n",
      "...                            ...          ...         ...        ...   \n",
      "80814068            Buteo lineatus  Los Angeles   US-CA-037  34.436575   \n",
      "80814086         Aquila chrysaetos    Mendocino   US-CA-045  39.002042   \n",
      "80814103         Pandion haliaetus       Shasta   US-CA-089  41.012147   \n",
      "80814172     Megascops kennicottii  Santa Clara   US-CA-085  37.465594   \n",
      "80814182         Buteo jamaicensis       Sonoma   US-CA-097  38.654952   \n",
      "\n",
      "           LONGITUDE OBSERVATION DATE  \n",
      "14       -124.202714       1999-01-18  \n",
      "15       -117.075205       1996-10-13  \n",
      "47       -121.330532       1983-10-30  \n",
      "59       -115.980082       1997-08-22  \n",
      "66       -118.251686       1995-09-11  \n",
      "...              ...              ...  \n",
      "80814068 -118.609858       1984-03-03  \n",
      "80814086 -123.084710       1999-12-10  \n",
      "80814103 -121.652260       1995-07-09  \n",
      "80814172 -121.520119       1997-12-30  \n",
      "80814182 -123.391571       1985-06-01  \n",
      "\n",
      "[4543068 rows x 8 columns]\n"
     ]
    }
   ],
   "source": [
    "print(df)"
   ]
  },
  {
   "cell_type": "code",
   "execution_count": 35,
   "id": "c40c3955",
   "metadata": {},
   "outputs": [],
   "source": [
    "save_file = \"/Users/olivianystrom/Desktop/Springboard/CA_Birds_of_Prey/Birds_of_Prey.csv\"\n",
    "df.to_csv(save_file)"
   ]
  },
  {
   "cell_type": "code",
   "execution_count": 37,
   "id": "16d0be9f",
   "metadata": {},
   "outputs": [
    {
     "name": "stdout",
     "output_type": "stream",
     "text": [
      "['Bald Eagle' \"Cooper's Hawk\" 'Osprey' 'Red-tailed Hawk'\n",
      " 'American Kestrel' 'White-tailed Kite' 'Sharp-shinned Hawk'\n",
      " 'Northern Harrier' 'Peregrine Falcon' 'Great Horned Owl' 'Golden Eagle'\n",
      " \"Sharp-shinned/Cooper's Hawk\" 'Red-shouldered Hawk' 'Western Screech-Owl'\n",
      " 'Barn Owl' 'Short-eared Owl' 'Burrowing Owl' 'Northern Goshawk'\n",
      " 'Prairie Falcon' 'Ferruginous Hawk' 'Northern Saw-whet Owl'\n",
      " 'Long-eared Owl' \"Swainson's Hawk\" 'Broad-winged Hawk'\n",
      " 'Northern Pygmy-Owl' 'Merlin' 'Rough-legged Hawk' 'Zone-tailed Hawk'\n",
      " 'Snowy Owl' 'Flammulated Owl' 'Barred Owl' \"Harris's Hawk\"\n",
      " 'Mississippi Kite' 'owl sp.' 'hawk sp.' 'falcon sp.' 'Common Black Hawk'\n",
      " 'eagle sp.' 'Golden/Bald Eagle' \"Cooper's Hawk/Northern Goshawk\"\n",
      " 'large falcon sp.' 'Swallow-tailed Kite' 'Buteo/eagle sp.'\n",
      " 'Eurasian Kestrel' 'small falcon sp.' 'Gray Hawk'\n",
      " 'Long-eared/Short-eared Owl'\n",
      " 'Common Black x Red-shouldered Hawk (hybrid)'\n",
      " 'Spotted x Barred Owl (hybrid)' 'Elf Owl'\n",
      " 'Peregrine x Prairie Falcon (hybrid)'\n",
      " 'Red-tailed x Rough-legged Hawk (hybrid)' 'Spotted/Barred Owl'\n",
      " 'Aplomado Falcon']\n"
     ]
    }
   ],
   "source": [
    "with open(\"/Users/olivianystrom/Desktop/Springboard/CA_Birds_of_Prey/Birds_of_Prey.csv\") as csv_file:\n",
    "\n",
    "    df = pd.read_csv(csv_file)\n",
    "    non_raptors = ['Common Nighthawk', 'Lesser Nighthawk', 'nighthawk', 'waterfowl'] # Removing non-raptor species that remained in the dataset\n",
    "    df.drop(df[df['COMMON NAME'].str.contains('|'.join(non_raptors))].index, inplace = True)\n",
    "    print(df[\"COMMON NAME\"].unique()) # a few values are not specific species but 'falcon sp.' or similar."
   ]
  },
  {
   "cell_type": "code",
   "execution_count": 64,
   "id": "a1317b35",
   "metadata": {},
   "outputs": [
    {
     "name": "stdout",
     "output_type": "stream",
     "text": [
      "(0, 9)\n",
      "(0, 9)\n",
      "(3, 9)\n",
      "(0, 9)\n",
      "(3, 9)\n",
      "(0, 9)\n",
      "1860-08-23\n",
      "2021-12-31\n"
     ]
    }
   ],
   "source": [
    "print(df[df[\"LATITUDE\"].isnull() == True].shape) #no missing data\n",
    "print(df[df[\"LONGITUDE\"].isnull() == True].shape) #no missing data\n",
    "print(df[df[\"COUNTY\"].isnull() == True].shape)  #County is missing 3 values\n",
    "print(df[df[\"OBSERVATION DATE\"].isnull() == True].shape) #no missing data\n",
    "print(df[df[\"COUNTY CODE\"].isnull() == True].shape) #County Code is missing 3 values\n",
    "print(df[df[\"LAST EDITED DATE\"].isnull() == True].shape) #no missing data\n",
    "\n",
    "#The three lines missing county data will be kept for Lat/Long analysis, but removed for county-level analysis\n",
    "\n",
    "#ebird allows people to add historical data from before ebird existed, so data prior to 2002 is still valid. \n",
    "#During the EDA phase I will look into how far back we want to go, since data is sparse in the years prior to 1980\n",
    "\n",
    "# print(df[pd.DatetimeIndex(df[\"OBSERVATION DATE\"]).year <= 1980 ])\n",
    "print(df[\"OBSERVATION DATE\"].min())\n",
    "print(df[\"OBSERVATION DATE\"].max())"
   ]
  },
  {
   "cell_type": "code",
   "execution_count": null,
   "id": "079a0bd1",
   "metadata": {},
   "outputs": [],
   "source": []
  },
  {
   "cell_type": "code",
   "execution_count": null,
   "id": "cec1d797",
   "metadata": {},
   "outputs": [],
   "source": []
  }
 ],
 "metadata": {
  "kernelspec": {
   "display_name": "Python 3",
   "language": "python",
   "name": "python3"
  },
  "language_info": {
   "codemirror_mode": {
    "name": "ipython",
    "version": 3
   },
   "file_extension": ".py",
   "mimetype": "text/x-python",
   "name": "python",
   "nbconvert_exporter": "python",
   "pygments_lexer": "ipython3",
   "version": "3.8.8"
  }
 },
 "nbformat": 4,
 "nbformat_minor": 5
}
