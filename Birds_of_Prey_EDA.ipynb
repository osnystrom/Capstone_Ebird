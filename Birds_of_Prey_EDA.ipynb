{
 "cells": [
  {
   "cell_type": "code",
   "execution_count": 70,
   "id": "1d9e5a0b",
   "metadata": {},
   "outputs": [],
   "source": [
    "import pandas as pd\n",
    "import seaborn as sns\n",
    "import numpy as np\n",
    "import matplotlib.pyplot as plt\n",
    "from matplotlib import figure\n",
    "import descartes\n",
    "import geopandas as gpd\n",
    "from shapely.geometry import Point, Polygon\n",
    "import shapefile as shp\n",
    "from pyproj import CRS\n",
    "\n",
    "%matplotlib inline"
   ]
  },
  {
   "cell_type": "code",
   "execution_count": 26,
   "id": "a1006a83",
   "metadata": {},
   "outputs": [
    {
     "name": "stdout",
     "output_type": "stream",
     "text": [
      "['Bald Eagle' \"Cooper's Hawk\" 'Osprey' 'Red-tailed Hawk'\n",
      " 'American Kestrel' 'White-tailed Kite' 'Sharp-shinned Hawk'\n",
      " 'Northern Harrier' 'Peregrine Falcon' 'Great Horned Owl' 'Golden Eagle'\n",
      " \"Sharp-shinned/Cooper's Hawk\" 'Red-shouldered Hawk' 'Western Screech-Owl'\n",
      " 'Barn Owl' 'Short-eared Owl' 'Burrowing Owl' 'Northern Goshawk'\n",
      " 'Prairie Falcon' 'Ferruginous Hawk' 'Northern Saw-whet Owl'\n",
      " 'Long-eared Owl' \"Swainson's Hawk\" 'Broad-winged Hawk'\n",
      " 'Northern Pygmy-Owl' 'Merlin' 'Rough-legged Hawk' 'Zone-tailed Hawk'\n",
      " 'Snowy Owl' 'Flammulated Owl' 'Barred Owl' \"Harris's Hawk\"\n",
      " 'Mississippi Kite' 'owl sp.' 'hawk sp.' 'falcon sp.' 'Common Black Hawk'\n",
      " 'eagle sp.' 'Golden/Bald Eagle' \"Cooper's Hawk/Northern Goshawk\"\n",
      " 'large falcon sp.' 'Swallow-tailed Kite' 'Buteo/eagle sp.'\n",
      " 'Eurasian Kestrel' 'small falcon sp.' 'Gray Hawk'\n",
      " 'Long-eared/Short-eared Owl'\n",
      " 'Common Black x Red-shouldered Hawk (hybrid)'\n",
      " 'Spotted x Barred Owl (hybrid)' 'Elf Owl'\n",
      " 'Peregrine x Prairie Falcon (hybrid)'\n",
      " 'Red-tailed x Rough-legged Hawk (hybrid)' 'Spotted/Barred Owl'\n",
      " 'Aplomado Falcon']\n",
      "54\n",
      "   Unnamed: 0  Unnamed: 0.1            LAST EDITED DATE       COMMON NAME  \\\n",
      "0           0            14  2021-08-05 02:45:57.629774        Bald Eagle   \n",
      "1           1            15  2021-04-01 02:35:26.368505     Cooper's Hawk   \n",
      "2           2            47         2017-08-16 00:15:16            Osprey   \n",
      "3           3            59  2021-04-01 02:35:26.368505   Red-tailed Hawk   \n",
      "4           4            66         2017-08-16 00:55:22  American Kestrel   \n",
      "\n",
      "            SCIENTIFIC NAME     COUNTY COUNTY CODE   LATITUDE   LONGITUDE  \\\n",
      "0  Haliaeetus leucocephalus  Del Norte   US-CA-015  41.754666 -124.202714   \n",
      "1        Accipiter cooperii  Riverside   US-CA-065  33.531253 -117.075205   \n",
      "2         Pandion haliaetus     Placer   US-CA-061  38.936017 -121.330532   \n",
      "3         Buteo jamaicensis  Riverside   US-CA-065  33.462797 -115.980082   \n",
      "4          Falco sparverius       Kern   US-CA-029  35.615712 -118.251686   \n",
      "\n",
      "  OBSERVATION DATE  \n",
      "0       1999-01-18  \n",
      "1       1996-10-13  \n",
      "2       1983-10-30  \n",
      "3       1997-08-22  \n",
      "4       1995-09-11  \n"
     ]
    }
   ],
   "source": [
    "with open(\"/Users/olivianystrom/Desktop/Springboard/CA_Birds_of_Prey/Birds_of_Prey.csv\") as csv_file:\n",
    "    df = pd.read_csv(csv_file)\n",
    "    print(df[\"COMMON NAME\"].unique())\n",
    "    print(len(df[\"COMMON NAME\"].unique()))\n",
    "    print(df.head())"
   ]
  },
  {
   "cell_type": "code",
   "execution_count": 40,
   "id": "18f2e2d3",
   "metadata": {},
   "outputs": [
    {
     "ename": "KeyError",
     "evalue": "False",
     "output_type": "error",
     "traceback": [
      "\u001b[0;31m---------------------------------------------------------------------------\u001b[0m",
      "\u001b[0;31mKeyError\u001b[0m                                  Traceback (most recent call last)",
      "\u001b[0;32m~/opt/anaconda3/lib/python3.8/site-packages/pandas/core/indexes/base.py\u001b[0m in \u001b[0;36mget_loc\u001b[0;34m(self, key, method, tolerance)\u001b[0m\n\u001b[1;32m   3079\u001b[0m             \u001b[0;32mtry\u001b[0m\u001b[0;34m:\u001b[0m\u001b[0;34m\u001b[0m\u001b[0;34m\u001b[0m\u001b[0m\n\u001b[0;32m-> 3080\u001b[0;31m                 \u001b[0;32mreturn\u001b[0m \u001b[0mself\u001b[0m\u001b[0;34m.\u001b[0m\u001b[0m_engine\u001b[0m\u001b[0;34m.\u001b[0m\u001b[0mget_loc\u001b[0m\u001b[0;34m(\u001b[0m\u001b[0mcasted_key\u001b[0m\u001b[0;34m)\u001b[0m\u001b[0;34m\u001b[0m\u001b[0;34m\u001b[0m\u001b[0m\n\u001b[0m\u001b[1;32m   3081\u001b[0m             \u001b[0;32mexcept\u001b[0m \u001b[0mKeyError\u001b[0m \u001b[0;32mas\u001b[0m \u001b[0merr\u001b[0m\u001b[0;34m:\u001b[0m\u001b[0;34m\u001b[0m\u001b[0;34m\u001b[0m\u001b[0m\n",
      "\u001b[0;32mpandas/_libs/index.pyx\u001b[0m in \u001b[0;36mpandas._libs.index.IndexEngine.get_loc\u001b[0;34m()\u001b[0m\n",
      "\u001b[0;32mpandas/_libs/index.pyx\u001b[0m in \u001b[0;36mpandas._libs.index.IndexEngine.get_loc\u001b[0;34m()\u001b[0m\n",
      "\u001b[0;32mpandas/_libs/hashtable_class_helper.pxi\u001b[0m in \u001b[0;36mpandas._libs.hashtable.PyObjectHashTable.get_item\u001b[0;34m()\u001b[0m\n",
      "\u001b[0;32mpandas/_libs/hashtable_class_helper.pxi\u001b[0m in \u001b[0;36mpandas._libs.hashtable.PyObjectHashTable.get_item\u001b[0;34m()\u001b[0m\n",
      "\u001b[0;31mKeyError\u001b[0m: False",
      "\nThe above exception was the direct cause of the following exception:\n",
      "\u001b[0;31mKeyError\u001b[0m                                  Traceback (most recent call last)",
      "\u001b[0;32m<ipython-input-40-04eb95e0a215>\u001b[0m in \u001b[0;36m<module>\u001b[0;34m\u001b[0m\n\u001b[1;32m      1\u001b[0m \u001b[0;31m# print(df['COMMON NAME'].value_counts())\u001b[0m\u001b[0;34m\u001b[0m\u001b[0;34m\u001b[0m\u001b[0;34m\u001b[0m\u001b[0m\n\u001b[1;32m      2\u001b[0m \u001b[0;32mfor\u001b[0m \u001b[0mname\u001b[0m \u001b[0;32min\u001b[0m \u001b[0mlist\u001b[0m\u001b[0;34m(\u001b[0m\u001b[0mdf\u001b[0m\u001b[0;34m[\u001b[0m\u001b[0;34m'COMMON NAME'\u001b[0m\u001b[0;34m]\u001b[0m\u001b[0;34m.\u001b[0m\u001b[0munique\u001b[0m\u001b[0;34m(\u001b[0m\u001b[0;34m)\u001b[0m\u001b[0;34m)\u001b[0m\u001b[0;34m:\u001b[0m\u001b[0;34m\u001b[0m\u001b[0;34m\u001b[0m\u001b[0m\n\u001b[0;32m----> 3\u001b[0;31m     \u001b[0mprint\u001b[0m\u001b[0;34m(\u001b[0m\u001b[0mdf\u001b[0m\u001b[0;34m[\u001b[0m\u001b[0;34m\"COMMON NAME\"\u001b[0m \u001b[0;34m==\u001b[0m \u001b[0mname\u001b[0m\u001b[0;34m]\u001b[0m\u001b[0;34m.\u001b[0m\u001b[0mvalue_counts\u001b[0m\u001b[0;34m(\u001b[0m\u001b[0;34m)\u001b[0m\u001b[0;34m)\u001b[0m\u001b[0;34m\u001b[0m\u001b[0;34m\u001b[0m\u001b[0m\n\u001b[0m\u001b[1;32m      4\u001b[0m \u001b[0;31m#     if df[name].value_counts() < 10:\u001b[0m\u001b[0;34m\u001b[0m\u001b[0;34m\u001b[0m\u001b[0;34m\u001b[0m\u001b[0m\n\u001b[1;32m      5\u001b[0m \u001b[0;31m#         df.drop(df[df[name]], inplace = True)\u001b[0m\u001b[0;34m\u001b[0m\u001b[0;34m\u001b[0m\u001b[0;34m\u001b[0m\u001b[0m\n",
      "\u001b[0;32m~/opt/anaconda3/lib/python3.8/site-packages/pandas/core/frame.py\u001b[0m in \u001b[0;36m__getitem__\u001b[0;34m(self, key)\u001b[0m\n\u001b[1;32m   3022\u001b[0m             \u001b[0;32mif\u001b[0m \u001b[0mself\u001b[0m\u001b[0;34m.\u001b[0m\u001b[0mcolumns\u001b[0m\u001b[0;34m.\u001b[0m\u001b[0mnlevels\u001b[0m \u001b[0;34m>\u001b[0m \u001b[0;36m1\u001b[0m\u001b[0;34m:\u001b[0m\u001b[0;34m\u001b[0m\u001b[0;34m\u001b[0m\u001b[0m\n\u001b[1;32m   3023\u001b[0m                 \u001b[0;32mreturn\u001b[0m \u001b[0mself\u001b[0m\u001b[0;34m.\u001b[0m\u001b[0m_getitem_multilevel\u001b[0m\u001b[0;34m(\u001b[0m\u001b[0mkey\u001b[0m\u001b[0;34m)\u001b[0m\u001b[0;34m\u001b[0m\u001b[0;34m\u001b[0m\u001b[0m\n\u001b[0;32m-> 3024\u001b[0;31m             \u001b[0mindexer\u001b[0m \u001b[0;34m=\u001b[0m \u001b[0mself\u001b[0m\u001b[0;34m.\u001b[0m\u001b[0mcolumns\u001b[0m\u001b[0;34m.\u001b[0m\u001b[0mget_loc\u001b[0m\u001b[0;34m(\u001b[0m\u001b[0mkey\u001b[0m\u001b[0;34m)\u001b[0m\u001b[0;34m\u001b[0m\u001b[0;34m\u001b[0m\u001b[0m\n\u001b[0m\u001b[1;32m   3025\u001b[0m             \u001b[0;32mif\u001b[0m \u001b[0mis_integer\u001b[0m\u001b[0;34m(\u001b[0m\u001b[0mindexer\u001b[0m\u001b[0;34m)\u001b[0m\u001b[0;34m:\u001b[0m\u001b[0;34m\u001b[0m\u001b[0;34m\u001b[0m\u001b[0m\n\u001b[1;32m   3026\u001b[0m                 \u001b[0mindexer\u001b[0m \u001b[0;34m=\u001b[0m \u001b[0;34m[\u001b[0m\u001b[0mindexer\u001b[0m\u001b[0;34m]\u001b[0m\u001b[0;34m\u001b[0m\u001b[0;34m\u001b[0m\u001b[0m\n",
      "\u001b[0;32m~/opt/anaconda3/lib/python3.8/site-packages/pandas/core/indexes/base.py\u001b[0m in \u001b[0;36mget_loc\u001b[0;34m(self, key, method, tolerance)\u001b[0m\n\u001b[1;32m   3080\u001b[0m                 \u001b[0;32mreturn\u001b[0m \u001b[0mself\u001b[0m\u001b[0;34m.\u001b[0m\u001b[0m_engine\u001b[0m\u001b[0;34m.\u001b[0m\u001b[0mget_loc\u001b[0m\u001b[0;34m(\u001b[0m\u001b[0mcasted_key\u001b[0m\u001b[0;34m)\u001b[0m\u001b[0;34m\u001b[0m\u001b[0;34m\u001b[0m\u001b[0m\n\u001b[1;32m   3081\u001b[0m             \u001b[0;32mexcept\u001b[0m \u001b[0mKeyError\u001b[0m \u001b[0;32mas\u001b[0m \u001b[0merr\u001b[0m\u001b[0;34m:\u001b[0m\u001b[0;34m\u001b[0m\u001b[0;34m\u001b[0m\u001b[0m\n\u001b[0;32m-> 3082\u001b[0;31m                 \u001b[0;32mraise\u001b[0m \u001b[0mKeyError\u001b[0m\u001b[0;34m(\u001b[0m\u001b[0mkey\u001b[0m\u001b[0;34m)\u001b[0m \u001b[0;32mfrom\u001b[0m \u001b[0merr\u001b[0m\u001b[0;34m\u001b[0m\u001b[0;34m\u001b[0m\u001b[0m\n\u001b[0m\u001b[1;32m   3083\u001b[0m \u001b[0;34m\u001b[0m\u001b[0m\n\u001b[1;32m   3084\u001b[0m         \u001b[0;32mif\u001b[0m \u001b[0mtolerance\u001b[0m \u001b[0;32mis\u001b[0m \u001b[0;32mnot\u001b[0m \u001b[0;32mNone\u001b[0m\u001b[0;34m:\u001b[0m\u001b[0;34m\u001b[0m\u001b[0;34m\u001b[0m\u001b[0m\n",
      "\u001b[0;31mKeyError\u001b[0m: False"
     ]
    }
   ],
   "source": [
    "# print(df['COMMON NAME'].value_counts())\n",
    "for name in list(df['COMMON NAME'].unique()):\n",
    "    print(df[\"COMMON NAME\" == name].value_counts())\n",
    "#     if df[name].value_counts() < 10:\n",
    "#         df.drop(df[df[name]], inplace = True)\n",
    "# print(df['COMMON NAME'].unique())\n",
    "\n"
   ]
  },
  {
   "cell_type": "code",
   "execution_count": 32,
   "id": "07fa5a30",
   "metadata": {},
   "outputs": [],
   "source": [
    "# df['Family'] = pd.NaT\n",
    "\n",
    "# consider sorting by family/order"
   ]
  },
  {
   "cell_type": "code",
   "execution_count": 8,
   "id": "1baa538f",
   "metadata": {},
   "outputs": [
    {
     "data": {
      "image/png": "[encoded data removed]",
      "text/plain": [
       "<Figure size 432x288 with 1 Axes>"
      ]
     },
     "metadata": {
      "needs_background": "light"
     },
     "output_type": "display_data"
    }
   ],
   "source": [
    "# Show total sightings over time\n",
    "# Truncate date to year\n",
    "# https://www.geeksforgeeks.org/creating-a-time-series-plot-with-seaborn-and-pandas/\n",
    "\n",
    "df.index = pd.to_datetime(df['OBSERVATION DATE'],yearfirst=True)\n",
    "df.groupby(by=[df.index.month, df.index.year])\n",
    "# print(df.head())\n",
    "\n",
    "\n",
    "# ax = sns.countplot(x=pd.DatetimeIndex(df['OBSERVATION DATE']).year, data=df)\n",
    "# plt.xticks(rotation = 90)\n",
    "# plt.figure(figsize = (250,100))\n",
    "# plt.show()\n",
    "\n",
    "sns.countplot(data = df, x=pd.DatetimeIndex(df['OBSERVATION DATE']).year)\n",
    "plt.show()\n",
    "# df.groupby(by = 'OBSERVATION DATE')\n",
    "# sns.histplot(x = df['OBSERVATION DATE'], stat = 'count')\n",
    "# plt.show()"
   ]
  },
  {
   "cell_type": "code",
   "execution_count": 82,
   "id": "80700ffb",
   "metadata": {},
   "outputs": [
    {
     "data": {
      "text/html": [
       "<div>\n",
       "<style scoped>\n",
       "    .dataframe tbody tr th:only-of-type {\n",
       "        vertical-align: middle;\n",
       "    }\n",
       "\n",
       "    .dataframe tbody tr th {\n",
       "        vertical-align: top;\n",
       "    }\n",
       "\n",
       "    .dataframe thead th {\n",
       "        text-align: right;\n",
       "    }\n",
       "</style>\n",
       "<table border=\"1\" class=\"dataframe\">\n",
       "  <thead>\n",
       "    <tr style=\"text-align: right;\">\n",
       "      <th></th>\n",
       "      <th>Unnamed: 0</th>\n",
       "      <th>Unnamed: 0.1</th>\n",
       "      <th>LAST EDITED DATE</th>\n",
       "      <th>COMMON NAME</th>\n",
       "      <th>SCIENTIFIC NAME</th>\n",
       "      <th>COUNTY</th>\n",
       "      <th>COUNTY CODE</th>\n",
       "      <th>LATITUDE</th>\n",
       "      <th>LONGITUDE</th>\n",
       "      <th>OBSERVATION DATE</th>\n",
       "      <th>geometry</th>\n",
       "    </tr>\n",
       "  </thead>\n",
       "  <tbody>\n",
       "    <tr>\n",
       "      <th>0</th>\n",
       "      <td>0</td>\n",
       "      <td>14</td>\n",
       "      <td>2021-08-05 02:45:57.629774</td>\n",
       "      <td>Bald Eagle</td>\n",
       "      <td>Haliaeetus leucocephalus</td>\n",
       "      <td>Del Norte</td>\n",
       "      <td>US-CA-015</td>\n",
       "      <td>41.754666</td>\n",
       "      <td>-124.202714</td>\n",
       "      <td>1999-01-18</td>\n",
       "      <td>POINT (-124.20271 41.75467)</td>\n",
       "    </tr>\n",
       "    <tr>\n",
       "      <th>1</th>\n",
       "      <td>1</td>\n",
       "      <td>15</td>\n",
       "      <td>2021-04-01 02:35:26.368505</td>\n",
       "      <td>Cooper's Hawk</td>\n",
       "      <td>Accipiter cooperii</td>\n",
       "      <td>Riverside</td>\n",
       "      <td>US-CA-065</td>\n",
       "      <td>33.531253</td>\n",
       "      <td>-117.075205</td>\n",
       "      <td>1996-10-13</td>\n",
       "      <td>POINT (-117.07520 33.53125)</td>\n",
       "    </tr>\n",
       "    <tr>\n",
       "      <th>2</th>\n",
       "      <td>2</td>\n",
       "      <td>47</td>\n",
       "      <td>2017-08-16 00:15:16</td>\n",
       "      <td>Osprey</td>\n",
       "      <td>Pandion haliaetus</td>\n",
       "      <td>Placer</td>\n",
       "      <td>US-CA-061</td>\n",
       "      <td>38.936017</td>\n",
       "      <td>-121.330532</td>\n",
       "      <td>1983-10-30</td>\n",
       "      <td>POINT (-121.33053 38.93602)</td>\n",
       "    </tr>\n",
       "    <tr>\n",
       "      <th>3</th>\n",
       "      <td>3</td>\n",
       "      <td>59</td>\n",
       "      <td>2021-04-01 02:35:26.368505</td>\n",
       "      <td>Red-tailed Hawk</td>\n",
       "      <td>Buteo jamaicensis</td>\n",
       "      <td>Riverside</td>\n",
       "      <td>US-CA-065</td>\n",
       "      <td>33.462797</td>\n",
       "      <td>-115.980082</td>\n",
       "      <td>1997-08-22</td>\n",
       "      <td>POINT (-115.98008 33.46280)</td>\n",
       "    </tr>\n",
       "    <tr>\n",
       "      <th>4</th>\n",
       "      <td>4</td>\n",
       "      <td>66</td>\n",
       "      <td>2017-08-16 00:55:22</td>\n",
       "      <td>American Kestrel</td>\n",
       "      <td>Falco sparverius</td>\n",
       "      <td>Kern</td>\n",
       "      <td>US-CA-029</td>\n",
       "      <td>35.615712</td>\n",
       "      <td>-118.251686</td>\n",
       "      <td>1995-09-11</td>\n",
       "      <td>POINT (-118.25169 35.61571)</td>\n",
       "    </tr>\n",
       "  </tbody>\n",
       "</table>\n",
       "</div>"
      ],
      "text/plain": [
       "   Unnamed: 0  Unnamed: 0.1            LAST EDITED DATE       COMMON NAME  \\\n",
       "0           0            14  2021-08-05 02:45:57.629774        Bald Eagle   \n",
       "1           1            15  2021-04-01 02:35:26.368505     Cooper's Hawk   \n",
       "2           2            47         2017-08-16 00:15:16            Osprey   \n",
       "3           3            59  2021-04-01 02:35:26.368505   Red-tailed Hawk   \n",
       "4           4            66         2017-08-16 00:55:22  American Kestrel   \n",
       "\n",
       "            SCIENTIFIC NAME     COUNTY COUNTY CODE   LATITUDE   LONGITUDE  \\\n",
       "0  Haliaeetus leucocephalus  Del Norte   US-CA-015  41.754666 -124.202714   \n",
       "1        Accipiter cooperii  Riverside   US-CA-065  33.531253 -117.075205   \n",
       "2         Pandion haliaetus     Placer   US-CA-061  38.936017 -121.330532   \n",
       "3         Buteo jamaicensis  Riverside   US-CA-065  33.462797 -115.980082   \n",
       "4          Falco sparverius       Kern   US-CA-029  35.615712 -118.251686   \n",
       "\n",
       "  OBSERVATION DATE                     geometry  \n",
       "0       1999-01-18  POINT (-124.20271 41.75467)  \n",
       "1       1996-10-13  POINT (-117.07520 33.53125)  \n",
       "2       1983-10-30  POINT (-121.33053 38.93602)  \n",
       "3       1997-08-22  POINT (-115.98008 33.46280)  \n",
       "4       1995-09-11  POINT (-118.25169 35.61571)  "
      ]
     },
     "execution_count": 82,
     "metadata": {},
     "output_type": "execute_result"
    },
    {
     "data": {
      "image/png": "[encoded data removed]",
      "text/plain": [
       "<Figure size 432x288 with 1 Axes>"
      ]
     },
     "metadata": {
      "needs_background": "light"
     },
     "output_type": "display_data"
    }
   ],
   "source": [
    "#Starting the Lat/Long plotting\n",
    "\n",
    "CA_counties = gpd.read_file(\"/Users/olivianystrom/Desktop/Springboard/CA_Birds_of_Prey/CA_Counties/CA_Counties_TIGER2016.shp\")\n",
    "CA_counties.plot()\n",
    "\n",
    "geometry = [Point(xy) for xy in zip( df[\"LONGITUDE\"], df[\"LATITUDE\"])]\n",
    "geometry[:3]\n",
    "# crs = CRS(\"EPSG:4326 \")\n",
    "crs = CRS(\"WGS84\")\n",
    "\n",
    "geo_df = gpd.GeoDataFrame(df, crs = crs, geometry = geometry)\n",
    "geo_df.head()"
   ]
  },
  {
   "cell_type": "code",
   "execution_count": 83,
   "id": "9da85bf7",
   "metadata": {},
   "outputs": [
    {
     "data": {
      "text/plain": [
       "<matplotlib.legend.Legend at 0x7ff7d465b340>"
      ]
     },
     "execution_count": 83,
     "metadata": {},
     "output_type": "execute_result"
    },
    {
     "data": {
      "image/png": "[encoded data removed]",
      "text/plain": [
       "<Figure size 432x288 with 1 Axes>"
      ]
     },
     "metadata": {
      "needs_background": "light"
     },
     "output_type": "display_data"
    }
   ],
   "source": [
    "fig,ax = plt.subplots()\n",
    "CA_counties.plot(ax = ax, alpha = 0.4, color = \"grey\")\n",
    "geo_df[geo_df[\"COMMON NAME\"] == \"Red-tailed Hawk\"].plot(ax = ax, \n",
    "                                                        markersize = 20, color = 'red', \n",
    "                                                        marker = 'o', label = \"Red-tailed Hawk\")\n",
    "                                                  \n",
    "plt.legend()"
   ]
  },
  {
   "cell_type": "code",
   "execution_count": null,
   "id": "fbde5a90",
   "metadata": {},
   "outputs": [],
   "source": []
  },
  {
   "cell_type": "code",
   "execution_count": null,
   "id": "101f9725",
   "metadata": {},
   "outputs": [],
   "source": []
  }
 ],
 "metadata": {
  "kernelspec": {
   "display_name": "Python 3",
   "language": "python",
   "name": "python3"
  },
  "language_info": {
   "codemirror_mode": {
    "name": "ipython",
    "version": 3
   },
   "file_extension": ".py",
   "mimetype": "text/x-python",
   "name": "python",
   "nbconvert_exporter": "python",
   "pygments_lexer": "ipython3",
   "version": "3.8.8"
  }
 },
 "nbformat": 4,
 "nbformat_minor": 5
}
